{
 "cells": [
  {
   "cell_type": "code",
   "execution_count": 1,
   "metadata": {},
   "outputs": [],
   "source": [
    "import torch\n",
    "import evaluate\n",
    "import numpy as np\n",
    "\n",
    "from datasets import load_dataset\n",
    "from peft import LoraConfig, get_peft_model\n",
    "from transformers import AutoModelForSeq2SeqLM, AutoTokenizer\n",
    "from transformers import Seq2SeqTrainer, Seq2SeqTrainingArguments, DataCollatorForSeq2Seq"
   ]
  },
  {
   "cell_type": "code",
   "execution_count": 2,
   "metadata": {},
   "outputs": [
    {
     "name": "stderr",
     "output_type": "stream",
     "text": [
      "Some weights of the model checkpoint at ./lora_trained/lora-flan-t5-squad/ were not used when initializing T5ForConditionalGeneration: ['decoder.block.0.layer.0.SelfAttention.q.base_layer.weight', 'decoder.block.0.layer.0.SelfAttention.q.lora_A.default.weight', 'decoder.block.0.layer.0.SelfAttention.q.lora_B.default.weight', 'decoder.block.0.layer.0.SelfAttention.v.base_layer.weight', 'decoder.block.0.layer.0.SelfAttention.v.lora_A.default.weight', 'decoder.block.0.layer.0.SelfAttention.v.lora_B.default.weight', 'decoder.block.0.layer.1.EncDecAttention.q.base_layer.weight', 'decoder.block.0.layer.1.EncDecAttention.q.lora_A.default.weight', 'decoder.block.0.layer.1.EncDecAttention.q.lora_B.default.weight', 'decoder.block.0.layer.1.EncDecAttention.v.base_layer.weight', 'decoder.block.0.layer.1.EncDecAttention.v.lora_A.default.weight', 'decoder.block.0.layer.1.EncDecAttention.v.lora_B.default.weight', 'decoder.block.1.layer.0.SelfAttention.q.base_layer.weight', 'decoder.block.1.layer.0.SelfAttention.q.lora_A.default.weight', 'decoder.block.1.layer.0.SelfAttention.q.lora_B.default.weight', 'decoder.block.1.layer.0.SelfAttention.v.base_layer.weight', 'decoder.block.1.layer.0.SelfAttention.v.lora_A.default.weight', 'decoder.block.1.layer.0.SelfAttention.v.lora_B.default.weight', 'decoder.block.1.layer.1.EncDecAttention.q.base_layer.weight', 'decoder.block.1.layer.1.EncDecAttention.q.lora_A.default.weight', 'decoder.block.1.layer.1.EncDecAttention.q.lora_B.default.weight', 'decoder.block.1.layer.1.EncDecAttention.v.base_layer.weight', 'decoder.block.1.layer.1.EncDecAttention.v.lora_A.default.weight', 'decoder.block.1.layer.1.EncDecAttention.v.lora_B.default.weight', 'decoder.block.10.layer.0.SelfAttention.q.base_layer.weight', 'decoder.block.10.layer.0.SelfAttention.q.lora_A.default.weight', 'decoder.block.10.layer.0.SelfAttention.q.lora_B.default.weight', 'decoder.block.10.layer.0.SelfAttention.v.base_layer.weight', 'decoder.block.10.layer.0.SelfAttention.v.lora_A.default.weight', 'decoder.block.10.layer.0.SelfAttention.v.lora_B.default.weight', 'decoder.block.10.layer.1.EncDecAttention.q.base_layer.weight', 'decoder.block.10.layer.1.EncDecAttention.q.lora_A.default.weight', 'decoder.block.10.layer.1.EncDecAttention.q.lora_B.default.weight', 'decoder.block.10.layer.1.EncDecAttention.v.base_layer.weight', 'decoder.block.10.layer.1.EncDecAttention.v.lora_A.default.weight', 'decoder.block.10.layer.1.EncDecAttention.v.lora_B.default.weight', 'decoder.block.11.layer.0.SelfAttention.q.base_layer.weight', 'decoder.block.11.layer.0.SelfAttention.q.lora_A.default.weight', 'decoder.block.11.layer.0.SelfAttention.q.lora_B.default.weight', 'decoder.block.11.layer.0.SelfAttention.v.base_layer.weight', 'decoder.block.11.layer.0.SelfAttention.v.lora_A.default.weight', 'decoder.block.11.layer.0.SelfAttention.v.lora_B.default.weight', 'decoder.block.11.layer.1.EncDecAttention.q.base_layer.weight', 'decoder.block.11.layer.1.EncDecAttention.q.lora_A.default.weight', 'decoder.block.11.layer.1.EncDecAttention.q.lora_B.default.weight', 'decoder.block.11.layer.1.EncDecAttention.v.base_layer.weight', 'decoder.block.11.layer.1.EncDecAttention.v.lora_A.default.weight', 'decoder.block.11.layer.1.EncDecAttention.v.lora_B.default.weight', 'decoder.block.2.layer.0.SelfAttention.q.base_layer.weight', 'decoder.block.2.layer.0.SelfAttention.q.lora_A.default.weight', 'decoder.block.2.layer.0.SelfAttention.q.lora_B.default.weight', 'decoder.block.2.layer.0.SelfAttention.v.base_layer.weight', 'decoder.block.2.layer.0.SelfAttention.v.lora_A.default.weight', 'decoder.block.2.layer.0.SelfAttention.v.lora_B.default.weight', 'decoder.block.2.layer.1.EncDecAttention.q.base_layer.weight', 'decoder.block.2.layer.1.EncDecAttention.q.lora_A.default.weight', 'decoder.block.2.layer.1.EncDecAttention.q.lora_B.default.weight', 'decoder.block.2.layer.1.EncDecAttention.v.base_layer.weight', 'decoder.block.2.layer.1.EncDecAttention.v.lora_A.default.weight', 'decoder.block.2.layer.1.EncDecAttention.v.lora_B.default.weight', 'decoder.block.3.layer.0.SelfAttention.q.base_layer.weight', 'decoder.block.3.layer.0.SelfAttention.q.lora_A.default.weight', 'decoder.block.3.layer.0.SelfAttention.q.lora_B.default.weight', 'decoder.block.3.layer.0.SelfAttention.v.base_layer.weight', 'decoder.block.3.layer.0.SelfAttention.v.lora_A.default.weight', 'decoder.block.3.layer.0.SelfAttention.v.lora_B.default.weight', 'decoder.block.3.layer.1.EncDecAttention.q.base_layer.weight', 'decoder.block.3.layer.1.EncDecAttention.q.lora_A.default.weight', 'decoder.block.3.layer.1.EncDecAttention.q.lora_B.default.weight', 'decoder.block.3.layer.1.EncDecAttention.v.base_layer.weight', 'decoder.block.3.layer.1.EncDecAttention.v.lora_A.default.weight', 'decoder.block.3.layer.1.EncDecAttention.v.lora_B.default.weight', 'decoder.block.4.layer.0.SelfAttention.q.base_layer.weight', 'decoder.block.4.layer.0.SelfAttention.q.lora_A.default.weight', 'decoder.block.4.layer.0.SelfAttention.q.lora_B.default.weight', 'decoder.block.4.layer.0.SelfAttention.v.base_layer.weight', 'decoder.block.4.layer.0.SelfAttention.v.lora_A.default.weight', 'decoder.block.4.layer.0.SelfAttention.v.lora_B.default.weight', 'decoder.block.4.layer.1.EncDecAttention.q.base_layer.weight', 'decoder.block.4.layer.1.EncDecAttention.q.lora_A.default.weight', 'decoder.block.4.layer.1.EncDecAttention.q.lora_B.default.weight', 'decoder.block.4.layer.1.EncDecAttention.v.base_layer.weight', 'decoder.block.4.layer.1.EncDecAttention.v.lora_A.default.weight', 'decoder.block.4.layer.1.EncDecAttention.v.lora_B.default.weight', 'decoder.block.5.layer.0.SelfAttention.q.base_layer.weight', 'decoder.block.5.layer.0.SelfAttention.q.lora_A.default.weight', 'decoder.block.5.layer.0.SelfAttention.q.lora_B.default.weight', 'decoder.block.5.layer.0.SelfAttention.v.base_layer.weight', 'decoder.block.5.layer.0.SelfAttention.v.lora_A.default.weight', 'decoder.block.5.layer.0.SelfAttention.v.lora_B.default.weight', 'decoder.block.5.layer.1.EncDecAttention.q.base_layer.weight', 'decoder.block.5.layer.1.EncDecAttention.q.lora_A.default.weight', 'decoder.block.5.layer.1.EncDecAttention.q.lora_B.default.weight', 'decoder.block.5.layer.1.EncDecAttention.v.base_layer.weight', 'decoder.block.5.layer.1.EncDecAttention.v.lora_A.default.weight', 'decoder.block.5.layer.1.EncDecAttention.v.lora_B.default.weight', 'decoder.block.6.layer.0.SelfAttention.q.base_layer.weight', 'decoder.block.6.layer.0.SelfAttention.q.lora_A.default.weight', 'decoder.block.6.layer.0.SelfAttention.q.lora_B.default.weight', 'decoder.block.6.layer.0.SelfAttention.v.base_layer.weight', 'decoder.block.6.layer.0.SelfAttention.v.lora_A.default.weight', 'decoder.block.6.layer.0.SelfAttention.v.lora_B.default.weight', 'decoder.block.6.layer.1.EncDecAttention.q.base_layer.weight', 'decoder.block.6.layer.1.EncDecAttention.q.lora_A.default.weight', 'decoder.block.6.layer.1.EncDecAttention.q.lora_B.default.weight', 'decoder.block.6.layer.1.EncDecAttention.v.base_layer.weight', 'decoder.block.6.layer.1.EncDecAttention.v.lora_A.default.weight', 'decoder.block.6.layer.1.EncDecAttention.v.lora_B.default.weight', 'decoder.block.7.layer.0.SelfAttention.q.base_layer.weight', 'decoder.block.7.layer.0.SelfAttention.q.lora_A.default.weight', 'decoder.block.7.layer.0.SelfAttention.q.lora_B.default.weight', 'decoder.block.7.layer.0.SelfAttention.v.base_layer.weight', 'decoder.block.7.layer.0.SelfAttention.v.lora_A.default.weight', 'decoder.block.7.layer.0.SelfAttention.v.lora_B.default.weight', 'decoder.block.7.layer.1.EncDecAttention.q.base_layer.weight', 'decoder.block.7.layer.1.EncDecAttention.q.lora_A.default.weight', 'decoder.block.7.layer.1.EncDecAttention.q.lora_B.default.weight', 'decoder.block.7.layer.1.EncDecAttention.v.base_layer.weight', 'decoder.block.7.layer.1.EncDecAttention.v.lora_A.default.weight', 'decoder.block.7.layer.1.EncDecAttention.v.lora_B.default.weight', 'decoder.block.8.layer.0.SelfAttention.q.base_layer.weight', 'decoder.block.8.layer.0.SelfAttention.q.lora_A.default.weight', 'decoder.block.8.layer.0.SelfAttention.q.lora_B.default.weight', 'decoder.block.8.layer.0.SelfAttention.v.base_layer.weight', 'decoder.block.8.layer.0.SelfAttention.v.lora_A.default.weight', 'decoder.block.8.layer.0.SelfAttention.v.lora_B.default.weight', 'decoder.block.8.layer.1.EncDecAttention.q.base_layer.weight', 'decoder.block.8.layer.1.EncDecAttention.q.lora_A.default.weight', 'decoder.block.8.layer.1.EncDecAttention.q.lora_B.default.weight', 'decoder.block.8.layer.1.EncDecAttention.v.base_layer.weight', 'decoder.block.8.layer.1.EncDecAttention.v.lora_A.default.weight', 'decoder.block.8.layer.1.EncDecAttention.v.lora_B.default.weight', 'decoder.block.9.layer.0.SelfAttention.q.base_layer.weight', 'decoder.block.9.layer.0.SelfAttention.q.lora_A.default.weight', 'decoder.block.9.layer.0.SelfAttention.q.lora_B.default.weight', 'decoder.block.9.layer.0.SelfAttention.v.base_layer.weight', 'decoder.block.9.layer.0.SelfAttention.v.lora_A.default.weight', 'decoder.block.9.layer.0.SelfAttention.v.lora_B.default.weight', 'decoder.block.9.layer.1.EncDecAttention.q.base_layer.weight', 'decoder.block.9.layer.1.EncDecAttention.q.lora_A.default.weight', 'decoder.block.9.layer.1.EncDecAttention.q.lora_B.default.weight', 'decoder.block.9.layer.1.EncDecAttention.v.base_layer.weight', 'decoder.block.9.layer.1.EncDecAttention.v.lora_A.default.weight', 'decoder.block.9.layer.1.EncDecAttention.v.lora_B.default.weight', 'encoder.block.0.layer.0.SelfAttention.q.base_layer.weight', 'encoder.block.0.layer.0.SelfAttention.q.lora_A.default.weight', 'encoder.block.0.layer.0.SelfAttention.q.lora_B.default.weight', 'encoder.block.0.layer.0.SelfAttention.v.base_layer.weight', 'encoder.block.0.layer.0.SelfAttention.v.lora_A.default.weight', 'encoder.block.0.layer.0.SelfAttention.v.lora_B.default.weight', 'encoder.block.1.layer.0.SelfAttention.q.base_layer.weight', 'encoder.block.1.layer.0.SelfAttention.q.lora_A.default.weight', 'encoder.block.1.layer.0.SelfAttention.q.lora_B.default.weight', 'encoder.block.1.layer.0.SelfAttention.v.base_layer.weight', 'encoder.block.1.layer.0.SelfAttention.v.lora_A.default.weight', 'encoder.block.1.layer.0.SelfAttention.v.lora_B.default.weight', 'encoder.block.10.layer.0.SelfAttention.q.base_layer.weight', 'encoder.block.10.layer.0.SelfAttention.q.lora_A.default.weight', 'encoder.block.10.layer.0.SelfAttention.q.lora_B.default.weight', 'encoder.block.10.layer.0.SelfAttention.v.base_layer.weight', 'encoder.block.10.layer.0.SelfAttention.v.lora_A.default.weight', 'encoder.block.10.layer.0.SelfAttention.v.lora_B.default.weight', 'encoder.block.11.layer.0.SelfAttention.q.base_layer.weight', 'encoder.block.11.layer.0.SelfAttention.q.lora_A.default.weight', 'encoder.block.11.layer.0.SelfAttention.q.lora_B.default.weight', 'encoder.block.11.layer.0.SelfAttention.v.base_layer.weight', 'encoder.block.11.layer.0.SelfAttention.v.lora_A.default.weight', 'encoder.block.11.layer.0.SelfAttention.v.lora_B.default.weight', 'encoder.block.2.layer.0.SelfAttention.q.base_layer.weight', 'encoder.block.2.layer.0.SelfAttention.q.lora_A.default.weight', 'encoder.block.2.layer.0.SelfAttention.q.lora_B.default.weight', 'encoder.block.2.layer.0.SelfAttention.v.base_layer.weight', 'encoder.block.2.layer.0.SelfAttention.v.lora_A.default.weight', 'encoder.block.2.layer.0.SelfAttention.v.lora_B.default.weight', 'encoder.block.3.layer.0.SelfAttention.q.base_layer.weight', 'encoder.block.3.layer.0.SelfAttention.q.lora_A.default.weight', 'encoder.block.3.layer.0.SelfAttention.q.lora_B.default.weight', 'encoder.block.3.layer.0.SelfAttention.v.base_layer.weight', 'encoder.block.3.layer.0.SelfAttention.v.lora_A.default.weight', 'encoder.block.3.layer.0.SelfAttention.v.lora_B.default.weight', 'encoder.block.4.layer.0.SelfAttention.q.base_layer.weight', 'encoder.block.4.layer.0.SelfAttention.q.lora_A.default.weight', 'encoder.block.4.layer.0.SelfAttention.q.lora_B.default.weight', 'encoder.block.4.layer.0.SelfAttention.v.base_layer.weight', 'encoder.block.4.layer.0.SelfAttention.v.lora_A.default.weight', 'encoder.block.4.layer.0.SelfAttention.v.lora_B.default.weight', 'encoder.block.5.layer.0.SelfAttention.q.base_layer.weight', 'encoder.block.5.layer.0.SelfAttention.q.lora_A.default.weight', 'encoder.block.5.layer.0.SelfAttention.q.lora_B.default.weight', 'encoder.block.5.layer.0.SelfAttention.v.base_layer.weight', 'encoder.block.5.layer.0.SelfAttention.v.lora_A.default.weight', 'encoder.block.5.layer.0.SelfAttention.v.lora_B.default.weight', 'encoder.block.6.layer.0.SelfAttention.q.base_layer.weight', 'encoder.block.6.layer.0.SelfAttention.q.lora_A.default.weight', 'encoder.block.6.layer.0.SelfAttention.q.lora_B.default.weight', 'encoder.block.6.layer.0.SelfAttention.v.base_layer.weight', 'encoder.block.6.layer.0.SelfAttention.v.lora_A.default.weight', 'encoder.block.6.layer.0.SelfAttention.v.lora_B.default.weight', 'encoder.block.7.layer.0.SelfAttention.q.base_layer.weight', 'encoder.block.7.layer.0.SelfAttention.q.lora_A.default.weight', 'encoder.block.7.layer.0.SelfAttention.q.lora_B.default.weight', 'encoder.block.7.layer.0.SelfAttention.v.base_layer.weight', 'encoder.block.7.layer.0.SelfAttention.v.lora_A.default.weight', 'encoder.block.7.layer.0.SelfAttention.v.lora_B.default.weight', 'encoder.block.8.layer.0.SelfAttention.q.base_layer.weight', 'encoder.block.8.layer.0.SelfAttention.q.lora_A.default.weight', 'encoder.block.8.layer.0.SelfAttention.q.lora_B.default.weight', 'encoder.block.8.layer.0.SelfAttention.v.base_layer.weight', 'encoder.block.8.layer.0.SelfAttention.v.lora_A.default.weight', 'encoder.block.8.layer.0.SelfAttention.v.lora_B.default.weight', 'encoder.block.9.layer.0.SelfAttention.q.base_layer.weight', 'encoder.block.9.layer.0.SelfAttention.q.lora_A.default.weight', 'encoder.block.9.layer.0.SelfAttention.q.lora_B.default.weight', 'encoder.block.9.layer.0.SelfAttention.v.base_layer.weight', 'encoder.block.9.layer.0.SelfAttention.v.lora_A.default.weight', 'encoder.block.9.layer.0.SelfAttention.v.lora_B.default.weight']\n",
      "- This IS expected if you are initializing T5ForConditionalGeneration from the checkpoint of a model trained on another task or with another architecture (e.g. initializing a BertForSequenceClassification model from a BertForPreTraining model).\n",
      "- This IS NOT expected if you are initializing T5ForConditionalGeneration from the checkpoint of a model that you expect to be exactly identical (initializing a BertForSequenceClassification model from a BertForSequenceClassification model).\n",
      "Some weights of T5ForConditionalGeneration were not initialized from the model checkpoint at ./lora_trained/lora-flan-t5-squad/ and are newly initialized: ['decoder.block.0.layer.0.SelfAttention.q.weight', 'decoder.block.0.layer.0.SelfAttention.v.weight', 'decoder.block.0.layer.1.EncDecAttention.q.weight', 'decoder.block.0.layer.1.EncDecAttention.v.weight', 'decoder.block.1.layer.0.SelfAttention.q.weight', 'decoder.block.1.layer.0.SelfAttention.v.weight', 'decoder.block.1.layer.1.EncDecAttention.q.weight', 'decoder.block.1.layer.1.EncDecAttention.v.weight', 'decoder.block.10.layer.0.SelfAttention.q.weight', 'decoder.block.10.layer.0.SelfAttention.v.weight', 'decoder.block.10.layer.1.EncDecAttention.q.weight', 'decoder.block.10.layer.1.EncDecAttention.v.weight', 'decoder.block.11.layer.0.SelfAttention.q.weight', 'decoder.block.11.layer.0.SelfAttention.v.weight', 'decoder.block.11.layer.1.EncDecAttention.q.weight', 'decoder.block.11.layer.1.EncDecAttention.v.weight', 'decoder.block.2.layer.0.SelfAttention.q.weight', 'decoder.block.2.layer.0.SelfAttention.v.weight', 'decoder.block.2.layer.1.EncDecAttention.q.weight', 'decoder.block.2.layer.1.EncDecAttention.v.weight', 'decoder.block.3.layer.0.SelfAttention.q.weight', 'decoder.block.3.layer.0.SelfAttention.v.weight', 'decoder.block.3.layer.1.EncDecAttention.q.weight', 'decoder.block.3.layer.1.EncDecAttention.v.weight', 'decoder.block.4.layer.0.SelfAttention.q.weight', 'decoder.block.4.layer.0.SelfAttention.v.weight', 'decoder.block.4.layer.1.EncDecAttention.q.weight', 'decoder.block.4.layer.1.EncDecAttention.v.weight', 'decoder.block.5.layer.0.SelfAttention.q.weight', 'decoder.block.5.layer.0.SelfAttention.v.weight', 'decoder.block.5.layer.1.EncDecAttention.q.weight', 'decoder.block.5.layer.1.EncDecAttention.v.weight', 'decoder.block.6.layer.0.SelfAttention.q.weight', 'decoder.block.6.layer.0.SelfAttention.v.weight', 'decoder.block.6.layer.1.EncDecAttention.q.weight', 'decoder.block.6.layer.1.EncDecAttention.v.weight', 'decoder.block.7.layer.0.SelfAttention.q.weight', 'decoder.block.7.layer.0.SelfAttention.v.weight', 'decoder.block.7.layer.1.EncDecAttention.q.weight', 'decoder.block.7.layer.1.EncDecAttention.v.weight', 'decoder.block.8.layer.0.SelfAttention.q.weight', 'decoder.block.8.layer.0.SelfAttention.v.weight', 'decoder.block.8.layer.1.EncDecAttention.q.weight', 'decoder.block.8.layer.1.EncDecAttention.v.weight', 'decoder.block.9.layer.0.SelfAttention.q.weight', 'decoder.block.9.layer.0.SelfAttention.v.weight', 'decoder.block.9.layer.1.EncDecAttention.q.weight', 'decoder.block.9.layer.1.EncDecAttention.v.weight', 'encoder.block.0.layer.0.SelfAttention.q.weight', 'encoder.block.0.layer.0.SelfAttention.v.weight', 'encoder.block.1.layer.0.SelfAttention.q.weight', 'encoder.block.1.layer.0.SelfAttention.v.weight', 'encoder.block.10.layer.0.SelfAttention.q.weight', 'encoder.block.10.layer.0.SelfAttention.v.weight', 'encoder.block.11.layer.0.SelfAttention.q.weight', 'encoder.block.11.layer.0.SelfAttention.v.weight', 'encoder.block.2.layer.0.SelfAttention.q.weight', 'encoder.block.2.layer.0.SelfAttention.v.weight', 'encoder.block.3.layer.0.SelfAttention.q.weight', 'encoder.block.3.layer.0.SelfAttention.v.weight', 'encoder.block.4.layer.0.SelfAttention.q.weight', 'encoder.block.4.layer.0.SelfAttention.v.weight', 'encoder.block.5.layer.0.SelfAttention.q.weight', 'encoder.block.5.layer.0.SelfAttention.v.weight', 'encoder.block.6.layer.0.SelfAttention.q.weight', 'encoder.block.6.layer.0.SelfAttention.v.weight', 'encoder.block.7.layer.0.SelfAttention.q.weight', 'encoder.block.7.layer.0.SelfAttention.v.weight', 'encoder.block.8.layer.0.SelfAttention.q.weight', 'encoder.block.8.layer.0.SelfAttention.v.weight', 'encoder.block.9.layer.0.SelfAttention.q.weight', 'encoder.block.9.layer.0.SelfAttention.v.weight']\n",
      "You should probably TRAIN this model on a down-stream task to be able to use it for predictions and inference.\n"
     ]
    }
   ],
   "source": [
    "model_name = './lora_trained/lora-flan-t5-squad/'\n",
    "model = AutoModelForSeq2SeqLM.from_pretrained(model_name)\n",
    "tokenizer = AutoTokenizer.from_pretrained(model_name)\n",
    "\n",
    "dataset = load_dataset('squad_v2')"
   ]
  },
  {
   "cell_type": "code",
   "execution_count": 3,
   "metadata": {},
   "outputs": [
    {
     "name": "stdout",
     "output_type": "stream",
     "text": [
      "990311424\n",
      "0 train\n",
      "1 validation\n"
     ]
    }
   ],
   "source": [
    "total_params = sum(p.numel() for p in model.parameters())\n",
    "print(total_params * 4)\n",
    "for key ,value in enumerate(dataset):\n",
    "    print(key, value)"
   ]
  },
  {
   "cell_type": "code",
   "execution_count": 4,
   "metadata": {},
   "outputs": [
    {
     "data": {
      "application/vnd.jupyter.widget-view+json": {
       "model_id": "54db01554de24de4b4eaf36a2ca8a8ec",
       "version_major": 2,
       "version_minor": 0
      },
      "text/plain": [
       "Map:   0%|          | 0/130319 [00:00<?, ? examples/s]"
      ]
     },
     "metadata": {},
     "output_type": "display_data"
    },
    {
     "name": "stderr",
     "output_type": "stream",
     "text": [
      "c:\\Users\\incognito\\miniconda3\\envs\\a1_env\\Lib\\site-packages\\transformers\\tokenization_utils_base.py:4126: UserWarning: `as_target_tokenizer` is deprecated and will be removed in v5 of Transformers. You can tokenize your labels by using the argument `text_target` of the regular `__call__` method (either in the same call as your input texts if you use the same keyword arguments, or in a separate call.\n",
      "  warnings.warn(\n"
     ]
    },
    {
     "data": {
      "application/vnd.jupyter.widget-view+json": {
       "model_id": "a0e5e071e8ac4f0eb6f4fec378565b03",
       "version_major": 2,
       "version_minor": 0
      },
      "text/plain": [
       "Map:   0%|          | 0/11873 [00:00<?, ? examples/s]"
      ]
     },
     "metadata": {},
     "output_type": "display_data"
    }
   ],
   "source": [
    "def data_preprocessing(data):\n",
    "    inputs = [ q for q in data['question']] \n",
    "    targets = [a['text'][0] if len(a['text']) >0 else '' for a in data['answers']]\n",
    "    model_inputs = tokenizer(inputs, max_length=512, truncation=True)\n",
    "    \n",
    "    with tokenizer.as_target_tokenizer():\n",
    "        labels = tokenizer(targets, max_length=512, truncation=True)\n",
    "        \n",
    "    model_inputs['labels'] = labels['input_ids']\n",
    "    return model_inputs\n",
    "\n",
    "tokenized_dataset = dataset.map(data_preprocessing, batched=True,  batch_size=32)"
   ]
  },
  {
   "cell_type": "code",
   "execution_count": 5,
   "metadata": {},
   "outputs": [],
   "source": [
    "\n",
    "def compute_metrics(pred):\n",
    "    labels = pred.label_ids\n",
    "    preds = pred.predictions\n",
    "    accuracy_metric = evaluate.load(\"accuracy\")\n",
    "\n",
    "    if preds.ndim == 3:  \n",
    "        preds = preds.argmax(-1)\n",
    "\n",
    "\n",
    "    preds = np.array(preds)\n",
    "    labels = np.array(labels)\n",
    "\n",
    "    valid_preds = []\n",
    "    valid_labels = []\n",
    "\n",
    "    for i in range(len(labels)):\n",
    "        label = labels[i]\n",
    "        pred = preds[i]\n",
    "        valid_indices = label != -100\n",
    "\n",
    "        min_len = min(len(pred), len(label))\n",
    "        pred = pred[:min_len]  \n",
    "        label = label[:min_len]\n",
    "\n",
    "        filtered_pred = pred[valid_indices[:min_len]]\n",
    "        filtered_label = label[valid_indices[:min_len]]\n",
    "\n",
    "        valid_preds.extend(filtered_pred.tolist())\n",
    "        valid_labels.extend(filtered_label.tolist())\n",
    "\n",
    "    accuracy = accuracy_metric.compute(predictions=valid_preds, references=valid_labels)\n",
    "\n",
    "    return {\"accuracy\": accuracy['accuracy']}"
   ]
  },
  {
   "cell_type": "code",
   "execution_count": 6,
   "metadata": {},
   "outputs": [],
   "source": [
    "\n",
    "device = 'cuda' if torch.cuda.is_available() else 'cpu'\n",
    "data_collator = DataCollatorForSeq2Seq(tokenizer, model=model)\n",
    "\n",
    "\n",
    "lora_config = LoraConfig(\n",
    "    r=8,           \n",
    "    lora_alpha=32, \n",
    "    target_modules=[\"q\", \"v\"],\n",
    "    lora_dropout=0.1, \n",
    "    bias=\"none\"\n",
    ")\n",
    "\n",
    "# Apply LoRA to the model\n",
    "lora_model = get_peft_model(model, lora_config)\n",
    "\n",
    "accuracy_metric = evaluate.load(\"accuracy\")\n",
    "\n",
    "\n",
    "training_args = Seq2SeqTrainingArguments(\n",
    "    output_dir = \"./results\",\n",
    "    eval_strategy = \"epoch\",\n",
    "    learning_rate = 1e-5,\n",
    "    per_device_train_batch_size = 12,\n",
    "    per_device_eval_batch_size = 12,\n",
    "    weight_decay = 0.01,\n",
    "    save_total_limit = 3,\n",
    "    num_train_epochs =3,\n",
    "    predict_with_generate =True\n",
    ")\n",
    "\n",
    "\n",
    "trainer = Seq2SeqTrainer(\n",
    "    model=lora_model,\n",
    "    args=training_args,\n",
    "    train_dataset=tokenized_dataset['train'],\n",
    "    eval_dataset=tokenized_dataset['validation'],\n",
    "    data_collator= data_collator,\n",
    "    compute_metrics= compute_metrics    \n",
    ")\n",
    "\n",
    "# Uncomment this to retrin model.\n",
    "# trainer.train()"
   ]
  },
  {
   "cell_type": "code",
   "execution_count": 7,
   "metadata": {},
   "outputs": [
    {
     "name": "stderr",
     "output_type": "stream",
     "text": [
      "c:\\Users\\incognito\\miniconda3\\envs\\a1_env\\Lib\\site-packages\\transformers\\generation\\utils.py:1258: UserWarning: Using the model-agnostic default `max_length` (=20) to control the generation length. We recommend setting `max_new_tokens` to control the maximum length of the generation.\n",
      "  warnings.warn(\n"
     ]
    },
    {
     "data": {
      "application/vnd.jupyter.widget-view+json": {
       "model_id": "d21ae2b787064e739f3e81acabd3dd67",
       "version_major": 2,
       "version_minor": 0
      },
      "text/plain": [
       "  0%|          | 0/990 [00:00<?, ?it/s]"
      ]
     },
     "metadata": {},
     "output_type": "display_data"
    },
    {
     "name": "stdout",
     "output_type": "stream",
     "text": [
      "{'eval_loss': 7.995985984802246, 'eval_model_preparation_time': 0.006, 'eval_accuracy': 0.24964726288946706, 'eval_runtime': 324.4098, 'eval_samples_per_second': 36.599, 'eval_steps_per_second': 3.052}\n"
     ]
    }
   ],
   "source": [
    "\n",
    "results = trainer.evaluate()\n",
    "print(results)\n"
   ]
  },
  {
   "cell_type": "code",
   "execution_count": 8,
   "metadata": {},
   "outputs": [],
   "source": [
    "# model.save_pretrained(model_name)\n",
    "# tokenizer.save_pretrained(model_name)"
   ]
  },
  {
   "cell_type": "code",
   "execution_count": null,
   "metadata": {},
   "outputs": [],
   "source": []
  }
 ],
 "metadata": {
  "kernelspec": {
   "display_name": "a1_env",
   "language": "python",
   "name": "python3"
  },
  "language_info": {
   "codemirror_mode": {
    "name": "ipython",
    "version": 3
   },
   "file_extension": ".py",
   "mimetype": "text/x-python",
   "name": "python",
   "nbconvert_exporter": "python",
   "pygments_lexer": "ipython3",
   "version": "3.12.5"
  }
 },
 "nbformat": 4,
 "nbformat_minor": 2
}
