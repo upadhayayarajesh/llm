{
 "cells": [
  {
   "cell_type": "code",
   "execution_count": 1,
   "id": "initial_id",
   "metadata": {
    "ExecuteTime": {
     "end_time": "2024-08-17T20:36:31.406213700Z",
     "start_time": "2024-08-17T20:36:31.381126900Z"
    },
    "collapsed": true,
    "jupyter": {
     "outputs_hidden": true
    }
   },
   "outputs": [],
   "source": [
    "import torch\n",
    "import torch.nn as nn\n",
    "from torchvision import datasets, transforms\n",
    "from torch.utils.data import DataLoader, random_split\n",
    "import matplotlib.pyplot as plt"
   ]
  },
  {
   "cell_type": "code",
   "execution_count": 2,
   "id": "8bf6e3ab466c5952",
   "metadata": {
    "ExecuteTime": {
     "end_time": "2024-08-17T20:36:31.411358400Z",
     "start_time": "2024-08-17T20:36:31.397158700Z"
    },
    "collapsed": false
   },
   "outputs": [],
   "source": [
    "# Define transformations\n",
    "transform = transforms.Compose([\n",
    "    transforms.ToTensor()\n",
    "])"
   ]
  },
  {
   "cell_type": "code",
   "execution_count": 3,
   "id": "acc00d852ba6bf4d",
   "metadata": {
    "ExecuteTime": {
     "end_time": "2024-08-17T20:36:31.443388200Z",
     "start_time": "2024-08-17T20:36:31.412358400Z"
    },
    "collapsed": false
   },
   "outputs": [],
   "source": [
    "# Load  the MNIST dataset\n",
    "full_data = datasets.MNIST(root='./data', transform=transform, download=True)\n",
    "train = int(0.8 * len(full_data))\n",
    "test = len(full_data) - train\n",
    "train_data, test_data = random_split(full_data, [train, test])\n",
    "train_loader = DataLoader(dataset=train_data, shuffle=True)\n",
    "test_loader = DataLoader(dataset=test_data, shuffle=True)\n"
   ]
  },
  {
   "cell_type": "code",
   "execution_count": 4,
   "id": "5146abef732fc017",
   "metadata": {
    "ExecuteTime": {
     "end_time": "2024-08-17T20:36:31.552513900Z",
     "start_time": "2024-08-17T20:36:31.445388100Z"
    },
    "collapsed": false
   },
   "outputs": [
    {
     "data": {
      "image/png": "[encoded data removed]",
      "text/plain": [
       "<Figure size 600x600 with 4 Axes>"
      ]
     },
     "metadata": {},
     "output_type": "display_data"
    }
   ],
   "source": [
    "# Data Visualization\n",
    "figure = plt.figure(figsize=(6, 6))\n",
    "cols, rows = 2, 2\n",
    "for i in range(cols * rows):\n",
    "    sample_idx = torch.randint(len(train_loader.dataset), size=(1,)).item()\n",
    "    img, label = train_loader.dataset[sample_idx]\n",
    "    figure.add_subplot(rows, cols, i + 1)\n",
    "    plt.title(label)\n",
    "    plt.axis(\"off\")\n",
    "    plt.imshow(img.squeeze(), cmap='gray')\n",
    "plt.show()"
   ]
  },
  {
   "cell_type": "code",
   "execution_count": 5,
   "id": "7d4847eb08000388",
   "metadata": {
    "ExecuteTime": {
     "end_time": "2024-08-17T20:37:43.900455900Z",
     "start_time": "2024-08-17T20:36:31.556531500Z"
    },
    "collapsed": false
   },
   "outputs": [
    {
     "name": "stdout",
     "output_type": "stream",
     "text": [
      "Epoch: 1, Loss: 1.2142\n",
      "Epoch: 2, Loss: 0.3032\n",
      "Epoch: 3, Loss: 0.1063\n",
      "Epoch: 4, Loss: 0.0580\n",
      "Epoch: 5, Loss: 0.0213\n",
      "Finished Training!\n"
     ]
    }
   ],
   "source": [
    "\n",
    "class FeedForwardNetwork(torch.nn.Module):\n",
    "    def __init__(self, in_dim, embedding_dim=128, out_dim=10):\n",
    "        super().__init__()\n",
    "        self.linear = nn.Sequential(\n",
    "            nn.Linear(in_dim, embedding_dim),\n",
    "            nn.ReLU(),\n",
    "            nn.Linear(embedding_dim, out_dim),\n",
    "        )\n",
    "\n",
    "    def forward(self, x):\n",
    "        x = torch.flatten(x)\n",
    "        return self.linear(x)\n",
    "\n",
    "\n",
    "# Model creation\n",
    "in_dim = (train_loader.dataset[0][0].size()[1]) ** 2\n",
    "model = FeedForwardNetwork(in_dim=in_dim, out_dim=10, embedding_dim=128)\n",
    "optimizer = torch.optim.SGD(model.parameters(), lr=0.01)\n",
    "criterion = nn.CrossEntropyLoss()\n",
    "\n",
    "# Training\n",
    "for epoch in range(5):\n",
    "    loss = 0\n",
    "    for images, labels in train_loader.dataset:\n",
    "        optimizer.zero_grad()\n",
    "        output = model.forward(images)\n",
    "        loss = criterion(output, torch.tensor(labels))\n",
    "        loss.backward()\n",
    "        optimizer.step()\n",
    "    print(f'Epoch: {epoch + 1}, Loss: {loss.item():.4f}')\n",
    "print(\"Finished Training!\")"
   ]
  },
  {
   "cell_type": "code",
   "execution_count": 6,
   "id": "f9de8251268e5d18",
   "metadata": {
    "ExecuteTime": {
     "end_time": "2024-08-17T20:37:44.769299100Z",
     "start_time": "2024-08-17T20:37:43.902765100Z"
    },
    "collapsed": false
   },
   "outputs": [
    {
     "name": "stdout",
     "output_type": "stream",
     "text": [
      "Accuracy: 97.29166666666667%\n"
     ]
    }
   ],
   "source": [
    "# Prediction using created model.\n",
    "model.eval()\n",
    "with torch.no_grad():\n",
    "    correct = 0\n",
    "    total = 0\n",
    "    for images, labels in test_loader.dataset:\n",
    "        outputs = model.forward(images)\n",
    "        predicted = torch.argmax(outputs)\n",
    "        total += 1\n",
    "        if predicted == labels:\n",
    "            correct += 1\n",
    "    print(f'Accuracy: {(correct / total) * 100}%')"
   ]
  },
  {
   "cell_type": "code",
   "execution_count": 7,
   "id": "b35ece0833e9faab",
   "metadata": {
    "ExecuteTime": {
     "end_time": "2024-08-17T20:37:44.790596900Z",
     "start_time": "2024-08-17T20:37:44.770344400Z"
    },
    "collapsed": false
   },
   "outputs": [],
   "source": [
    "# Saving the model\n",
    "path = \"./model/two_layer_linear_model.pth\"\n",
    "torch.save(model.state_dict(), path )"
   ]
  },
  {
   "cell_type": "code",
   "execution_count": null,
   "id": "df22628b96d9dc66",
   "metadata": {
    "ExecuteTime": {
     "end_time": "2024-08-17T20:37:44.800103100Z",
     "start_time": "2024-08-17T20:37:44.785437500Z"
    },
    "collapsed": false
   },
   "outputs": [],
   "source": []
  }
 ],
 "metadata": {
  "kernelspec": {
   "display_name": "Python 3 (ipykernel)",
   "language": "python",
   "name": "python3"
  },
  "language_info": {
   "codemirror_mode": {
    "name": "ipython",
    "version": 3
   },
   "file_extension": ".py",
   "mimetype": "text/x-python",
   "name": "python",
   "nbconvert_exporter": "python",
   "pygments_lexer": "ipython3",
   "version": "3.11.9"
  }
 },
 "nbformat": 4,
 "nbformat_minor": 5
}
