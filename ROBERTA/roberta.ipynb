{
 "cells": [
  {
   "cell_type": "code",
   "execution_count": 1,
   "metadata": {},
   "outputs": [
    {
     "name": "stderr",
     "output_type": "stream",
     "text": [
      "\n",
      "A module that was compiled using NumPy 1.x cannot be run in\n",
      "NumPy 2.1.0 as it may crash. To support both 1.x and 2.x\n",
      "versions of NumPy, modules must be compiled with NumPy 2.0.\n",
      "Some module may need to rebuild instead e.g. with 'pybind11>=2.12'.\n",
      "\n",
      "If you are a user of the module, the easiest solution will be to\n",
      "downgrade to 'numpy<2' or try to upgrade the affected module.\n",
      "We expect that some modules will need time to support NumPy 2.\n",
      "\n",
      "Traceback (most recent call last):  File \"<frozen runpy>\", line 198, in _run_module_as_main\n",
      "  File \"<frozen runpy>\", line 88, in _run_code\n",
      "  File \"c:\\Users\\incognito\\miniconda3\\envs\\llm\\Lib\\site-packages\\ipykernel_launcher.py\", line 18, in <module>\n",
      "    app.launch_new_instance()\n",
      "  File \"c:\\Users\\incognito\\miniconda3\\envs\\llm\\Lib\\site-packages\\traitlets\\config\\application.py\", line 1075, in launch_instance\n",
      "    app.start()\n",
      "  File \"c:\\Users\\incognito\\miniconda3\\envs\\llm\\Lib\\site-packages\\ipykernel\\kernelapp.py\", line 739, in start\n",
      "    self.io_loop.start()\n",
      "  File \"c:\\Users\\incognito\\miniconda3\\envs\\llm\\Lib\\site-packages\\tornado\\platform\\asyncio.py\", line 205, in start\n",
      "    self.asyncio_loop.run_forever()\n",
      "  File \"c:\\Users\\incognito\\miniconda3\\envs\\llm\\Lib\\asyncio\\base_events.py\", line 608, in run_forever\n",
      "    self._run_once()\n",
      "  File \"c:\\Users\\incognito\\miniconda3\\envs\\llm\\Lib\\asyncio\\base_events.py\", line 1936, in _run_once\n",
      "    handle._run()\n",
      "  File \"c:\\Users\\incognito\\miniconda3\\envs\\llm\\Lib\\asyncio\\events.py\", line 84, in _run\n",
      "    self._context.run(self._callback, *self._args)\n",
      "  File \"c:\\Users\\incognito\\miniconda3\\envs\\llm\\Lib\\site-packages\\ipykernel\\kernelbase.py\", line 545, in dispatch_queue\n",
      "    await self.process_one()\n",
      "  File \"c:\\Users\\incognito\\miniconda3\\envs\\llm\\Lib\\site-packages\\ipykernel\\kernelbase.py\", line 534, in process_one\n",
      "    await dispatch(*args)\n",
      "  File \"c:\\Users\\incognito\\miniconda3\\envs\\llm\\Lib\\site-packages\\ipykernel\\kernelbase.py\", line 437, in dispatch_shell\n",
      "    await result\n",
      "  File \"c:\\Users\\incognito\\miniconda3\\envs\\llm\\Lib\\site-packages\\ipykernel\\ipkernel.py\", line 362, in execute_request\n",
      "    await super().execute_request(stream, ident, parent)\n",
      "  File \"c:\\Users\\incognito\\miniconda3\\envs\\llm\\Lib\\site-packages\\ipykernel\\kernelbase.py\", line 778, in execute_request\n",
      "    reply_content = await reply_content\n",
      "  File \"c:\\Users\\incognito\\miniconda3\\envs\\llm\\Lib\\site-packages\\ipykernel\\ipkernel.py\", line 449, in do_execute\n",
      "    res = shell.run_cell(\n",
      "  File \"c:\\Users\\incognito\\miniconda3\\envs\\llm\\Lib\\site-packages\\ipykernel\\zmqshell.py\", line 549, in run_cell\n",
      "    return super().run_cell(*args, **kwargs)\n",
      "  File \"c:\\Users\\incognito\\miniconda3\\envs\\llm\\Lib\\site-packages\\IPython\\core\\interactiveshell.py\", line 3075, in run_cell\n",
      "    result = self._run_cell(\n",
      "  File \"c:\\Users\\incognito\\miniconda3\\envs\\llm\\Lib\\site-packages\\IPython\\core\\interactiveshell.py\", line 3130, in _run_cell\n",
      "    result = runner(coro)\n",
      "  File \"c:\\Users\\incognito\\miniconda3\\envs\\llm\\Lib\\site-packages\\IPython\\core\\async_helpers.py\", line 128, in _pseudo_sync_runner\n",
      "    coro.send(None)\n",
      "  File \"c:\\Users\\incognito\\miniconda3\\envs\\llm\\Lib\\site-packages\\IPython\\core\\interactiveshell.py\", line 3334, in run_cell_async\n",
      "    has_raised = await self.run_ast_nodes(code_ast.body, cell_name,\n",
      "  File \"c:\\Users\\incognito\\miniconda3\\envs\\llm\\Lib\\site-packages\\IPython\\core\\interactiveshell.py\", line 3517, in run_ast_nodes\n",
      "    if await self.run_code(code, result, async_=asy):\n",
      "  File \"c:\\Users\\incognito\\miniconda3\\envs\\llm\\Lib\\site-packages\\IPython\\core\\interactiveshell.py\", line 3577, in run_code\n",
      "    exec(code_obj, self.user_global_ns, self.user_ns)\n",
      "  File \"C:\\Users\\incognito\\AppData\\Local\\Temp\\ipykernel_6520\\2428880051.py\", line 3, in <module>\n",
      "    import torch\n",
      "  File \"c:\\Users\\incognito\\miniconda3\\envs\\llm\\Lib\\site-packages\\torch\\__init__.py\", line 2120, in <module>\n",
      "    from torch._higher_order_ops import cond\n",
      "  File \"c:\\Users\\incognito\\miniconda3\\envs\\llm\\Lib\\site-packages\\torch\\_higher_order_ops\\__init__.py\", line 1, in <module>\n",
      "    from .cond import cond\n",
      "  File \"c:\\Users\\incognito\\miniconda3\\envs\\llm\\Lib\\site-packages\\torch\\_higher_order_ops\\cond.py\", line 5, in <module>\n",
      "    import torch._subclasses.functional_tensor\n",
      "  File \"c:\\Users\\incognito\\miniconda3\\envs\\llm\\Lib\\site-packages\\torch\\_subclasses\\functional_tensor.py\", line 42, in <module>\n",
      "    class FunctionalTensor(torch.Tensor):\n",
      "  File \"c:\\Users\\incognito\\miniconda3\\envs\\llm\\Lib\\site-packages\\torch\\_subclasses\\functional_tensor.py\", line 258, in FunctionalTensor\n",
      "    cpu = _conversion_method_template(device=torch.device(\"cpu\"))\n",
      "c:\\Users\\incognito\\miniconda3\\envs\\llm\\Lib\\site-packages\\torch\\_subclasses\\functional_tensor.py:258: UserWarning: Failed to initialize NumPy: _ARRAY_API not found (Triggered internally at C:\\actions-runner\\_work\\pytorch\\pytorch\\builder\\windows\\pytorch\\torch\\csrc\\utils\\tensor_numpy.cpp:84.)\n",
      "  cpu = _conversion_method_template(device=torch.device(\"cpu\"))\n",
      "c:\\Users\\incognito\\miniconda3\\envs\\llm\\Lib\\site-packages\\tqdm\\auto.py:21: TqdmWarning: IProgress not found. Please update jupyter and ipywidgets. See https://ipywidgets.readthedocs.io/en/stable/user_install.html\n",
      "  from .autonotebook import tqdm as notebook_tqdm\n"
     ]
    }
   ],
   "source": [
    "import os \n",
    "import math\n",
    "import torch\n",
    "\n",
    "import numpy as np\n",
    "import pandas as pd\n",
    "import torch.nn as nn\n",
    "import pytorch_lightning as pl\n",
    "import matplotlib.pyplot as plt\n",
    "import torch.nn.functional as F\n",
    "\n",
    "from torch.utils.data import Dataset\n",
    "from torch.utils.data  import DataLoader\n",
    "from transformers import AutoTokenizer, AutoModel, AdamW, get_cosine_schedule_with_warmup\n",
    "from torchmetrics.functional.classification import auroc\n"
   ]
  },
  {
   "cell_type": "code",
   "execution_count": 2,
   "metadata": {},
   "outputs": [],
   "source": [
    "train_path = './unhealthy_commnet_corpus_dataset/train.csv'\n",
    "val_path = './unhealthy_commnet_corpus_dataset/val.csv'\n"
   ]
  },
  {
   "cell_type": "code",
   "execution_count": 3,
   "metadata": {},
   "outputs": [
    {
     "data": {
      "text/html": [
       "<div>\n",
       "<style scoped>\n",
       "    .dataframe tbody tr th:only-of-type {\n",
       "        vertical-align: middle;\n",
       "    }\n",
       "\n",
       "    .dataframe tbody tr th {\n",
       "        vertical-align: top;\n",
       "    }\n",
       "\n",
       "    .dataframe thead th {\n",
       "        text-align: right;\n",
       "    }\n",
       "</style>\n",
       "<table border=\"1\" class=\"dataframe\">\n",
       "  <thead>\n",
       "    <tr style=\"text-align: right;\">\n",
       "      <th></th>\n",
       "      <th>_unit_id</th>\n",
       "      <th>_trusted_judgments</th>\n",
       "      <th>comment</th>\n",
       "      <th>antagonize</th>\n",
       "      <th>antagonize:confidence</th>\n",
       "      <th>condescending</th>\n",
       "      <th>condescending:confidence</th>\n",
       "      <th>dismissive</th>\n",
       "      <th>dismissive:confidence</th>\n",
       "      <th>generalisation</th>\n",
       "      <th>generalisation:confidence</th>\n",
       "      <th>generalisation_unfair</th>\n",
       "      <th>generalisation_unfair:confidence</th>\n",
       "      <th>healthy</th>\n",
       "      <th>healthy:confidence</th>\n",
       "      <th>hostile</th>\n",
       "      <th>hostile:confidence</th>\n",
       "      <th>sarcastic</th>\n",
       "      <th>sarcastic:confidence</th>\n",
       "    </tr>\n",
       "  </thead>\n",
       "  <tbody>\n",
       "    <tr>\n",
       "      <th>0</th>\n",
       "      <td>2319157561</td>\n",
       "      <td>4</td>\n",
       "      <td>Three marriages, several bankrupt periods, inh...</td>\n",
       "      <td>0</td>\n",
       "      <td>1.0000</td>\n",
       "      <td>0</td>\n",
       "      <td>1.0000</td>\n",
       "      <td>0</td>\n",
       "      <td>1.0000</td>\n",
       "      <td>0</td>\n",
       "      <td>1.0000</td>\n",
       "      <td>0.0</td>\n",
       "      <td>1.0</td>\n",
       "      <td>1</td>\n",
       "      <td>0.7578</td>\n",
       "      <td>0</td>\n",
       "      <td>0.7565</td>\n",
       "      <td>0</td>\n",
       "      <td>1.0000</td>\n",
       "    </tr>\n",
       "    <tr>\n",
       "      <th>1</th>\n",
       "      <td>1739464982</td>\n",
       "      <td>4</td>\n",
       "      <td>The sense of entitlement among high school 'jo...</td>\n",
       "      <td>0</td>\n",
       "      <td>0.7634</td>\n",
       "      <td>0</td>\n",
       "      <td>0.7634</td>\n",
       "      <td>0</td>\n",
       "      <td>0.7634</td>\n",
       "      <td>0</td>\n",
       "      <td>1.0000</td>\n",
       "      <td>0.0</td>\n",
       "      <td>1.0</td>\n",
       "      <td>1</td>\n",
       "      <td>0.7634</td>\n",
       "      <td>0</td>\n",
       "      <td>0.7634</td>\n",
       "      <td>0</td>\n",
       "      <td>0.7634</td>\n",
       "    </tr>\n",
       "    <tr>\n",
       "      <th>2</th>\n",
       "      <td>1739457583</td>\n",
       "      <td>5</td>\n",
       "      <td>So what? He was just stating the obvious.</td>\n",
       "      <td>0</td>\n",
       "      <td>0.8121</td>\n",
       "      <td>0</td>\n",
       "      <td>0.5928</td>\n",
       "      <td>0</td>\n",
       "      <td>0.8043</td>\n",
       "      <td>0</td>\n",
       "      <td>1.0000</td>\n",
       "      <td>0.0</td>\n",
       "      <td>1.0</td>\n",
       "      <td>1</td>\n",
       "      <td>0.6163</td>\n",
       "      <td>0</td>\n",
       "      <td>1.0000</td>\n",
       "      <td>0</td>\n",
       "      <td>1.0000</td>\n",
       "    </tr>\n",
       "    <tr>\n",
       "      <th>3</th>\n",
       "      <td>2319156950</td>\n",
       "      <td>40</td>\n",
       "      <td>If one is a Con, why yes, one would honk. Loud...</td>\n",
       "      <td>0</td>\n",
       "      <td>0.8508</td>\n",
       "      <td>0</td>\n",
       "      <td>0.8867</td>\n",
       "      <td>0</td>\n",
       "      <td>0.9239</td>\n",
       "      <td>0</td>\n",
       "      <td>0.8863</td>\n",
       "      <td>0.0</td>\n",
       "      <td>1.0</td>\n",
       "      <td>1</td>\n",
       "      <td>0.8508</td>\n",
       "      <td>0</td>\n",
       "      <td>0.9641</td>\n",
       "      <td>0</td>\n",
       "      <td>0.8868</td>\n",
       "    </tr>\n",
       "    <tr>\n",
       "      <th>4</th>\n",
       "      <td>2327196492</td>\n",
       "      <td>3</td>\n",
       "      <td>Ooohhh... It's Wendy Whiner... making sure to ...</td>\n",
       "      <td>0</td>\n",
       "      <td>1.0000</td>\n",
       "      <td>0</td>\n",
       "      <td>1.0000</td>\n",
       "      <td>0</td>\n",
       "      <td>1.0000</td>\n",
       "      <td>0</td>\n",
       "      <td>1.0000</td>\n",
       "      <td>0.0</td>\n",
       "      <td>1.0</td>\n",
       "      <td>1</td>\n",
       "      <td>1.0000</td>\n",
       "      <td>0</td>\n",
       "      <td>1.0000</td>\n",
       "      <td>0</td>\n",
       "      <td>1.0000</td>\n",
       "    </tr>\n",
       "  </tbody>\n",
       "</table>\n",
       "</div>"
      ],
      "text/plain": [
       "     _unit_id  _trusted_judgments  \\\n",
       "0  2319157561                   4   \n",
       "1  1739464982                   4   \n",
       "2  1739457583                   5   \n",
       "3  2319156950                  40   \n",
       "4  2327196492                   3   \n",
       "\n",
       "                                             comment  antagonize  \\\n",
       "0  Three marriages, several bankrupt periods, inh...           0   \n",
       "1  The sense of entitlement among high school 'jo...           0   \n",
       "2          So what? He was just stating the obvious.           0   \n",
       "3  If one is a Con, why yes, one would honk. Loud...           0   \n",
       "4  Ooohhh... It's Wendy Whiner... making sure to ...           0   \n",
       "\n",
       "   antagonize:confidence  condescending  condescending:confidence  dismissive  \\\n",
       "0                 1.0000              0                    1.0000           0   \n",
       "1                 0.7634              0                    0.7634           0   \n",
       "2                 0.8121              0                    0.5928           0   \n",
       "3                 0.8508              0                    0.8867           0   \n",
       "4                 1.0000              0                    1.0000           0   \n",
       "\n",
       "   dismissive:confidence  generalisation  generalisation:confidence  \\\n",
       "0                 1.0000               0                     1.0000   \n",
       "1                 0.7634               0                     1.0000   \n",
       "2                 0.8043               0                     1.0000   \n",
       "3                 0.9239               0                     0.8863   \n",
       "4                 1.0000               0                     1.0000   \n",
       "\n",
       "   generalisation_unfair  generalisation_unfair:confidence  healthy  \\\n",
       "0                    0.0                               1.0        1   \n",
       "1                    0.0                               1.0        1   \n",
       "2                    0.0                               1.0        1   \n",
       "3                    0.0                               1.0        1   \n",
       "4                    0.0                               1.0        1   \n",
       "\n",
       "   healthy:confidence  hostile  hostile:confidence  sarcastic  \\\n",
       "0              0.7578        0              0.7565          0   \n",
       "1              0.7634        0              0.7634          0   \n",
       "2              0.6163        0              1.0000          0   \n",
       "3              0.8508        0              0.9641          0   \n",
       "4              1.0000        0              1.0000          0   \n",
       "\n",
       "   sarcastic:confidence  \n",
       "0                1.0000  \n",
       "1                0.7634  \n",
       "2                1.0000  \n",
       "3                0.8868  \n",
       "4                1.0000  "
      ]
     },
     "execution_count": 3,
     "metadata": {},
     "output_type": "execute_result"
    }
   ],
   "source": [
    "train_data = pd.read_csv(train_path)\n",
    "train_data.head(5)"
   ]
  },
  {
   "cell_type": "code",
   "execution_count": 4,
   "metadata": {},
   "outputs": [
    {
     "data": {
      "text/plain": [
       "<Axes: >"
      ]
     },
     "execution_count": 4,
     "metadata": {},
     "output_type": "execute_result"
    },
    {
     "data": {
      "image/png": "[encoded data removed]",
      "text/plain": [
       "<Figure size 640x480 with 1 Axes>"
      ]
     },
     "metadata": {},
     "output_type": "display_data"
    }
   ],
   "source": [
    "train_data['unhealthy'] = np.where(train_data['healthy'] == 1, 0,1 )\n",
    "attributes =  ['antagonize', 'condescending', 'dismissive', 'generalisation',\n",
    "               'generalisation_unfair', 'hostile', 'sarcastic', 'unhealthy']\n",
    "train_data[attributes].sum().plot.bar()"
   ]
  },
  {
   "cell_type": "code",
   "execution_count": 5,
   "metadata": {},
   "outputs": [],
   "source": [
    "class UCC_Dataset(Dataset):\n",
    "    def __init__(self, data_path, tokenizer, attributes, \n",
    "               max_token_len:len=128, sample=5000):\n",
    "        self.data_path = data_path\n",
    "        self.tokenizer = tokenizer\n",
    "        self.attributes = attributes\n",
    "        self.max_token_len = max_token_len\n",
    "        self.sample = sample\n",
    "        self._prepare_data()\n",
    "        \n",
    "    def _prepare_data(self):\n",
    "        data = pd.read_csv(self.data_path)\n",
    "        data['unhealthy'] = np.where(data['healthy']== 1,0,1)\n",
    "        if self.sample is not None:\n",
    "                unhealthy = data.loc[data[attributes].sum(axis=1) > 0]\n",
    "                helathy = data.loc[data[attributes].sum(axis=1) == 0]\n",
    "                self.data = pd.concat([unhealthy, helathy.sample(self.sample, random_state=7)])\n",
    "        else:\n",
    "                self.data = data\n",
    "                \n",
    "    def __len__(self):\n",
    "            return len(self.data)\n",
    "        \n",
    "    def __getitem__(self, index):\n",
    "            item = self.data.iloc[index]\n",
    "            comment = str(item.comment)\n",
    "            attributes = torch.FloatTensor(item[self.attributes])\n",
    "            tokens = self.tokenizer.encode_plus(comment,\n",
    "                                                add_special_tokens=True,\n",
    "                                                return_tensors='pt',\n",
    "                                                truncation=True,\n",
    "                                                max_length=self.max_token_len,\n",
    "                                                padding='max_length',\n",
    "                                                return_attention_mask=True)\n",
    "            return {'input_ids': tokens.input_ids.flatten(), 'attention_mask': tokens.attention_mask.flatten(), 'labels': attributes}\n",
    "            "
   ]
  },
  {
   "cell_type": "code",
   "execution_count": 6,
   "metadata": {},
   "outputs": [
    {
     "name": "stderr",
     "output_type": "stream",
     "text": [
      "c:\\Users\\incognito\\miniconda3\\envs\\llm\\Lib\\site-packages\\transformers\\tokenization_utils_base.py:1601: FutureWarning: `clean_up_tokenization_spaces` was not set. It will be set to `True` by default. This behavior will be depracted in transformers v4.45, and will be then set to `False` by default. For more details check this issue: https://github.com/huggingface/transformers/issues/31884\n",
      "  warnings.warn(\n"
     ]
    }
   ],
   "source": [
    "model_name = 'roberta-base'\n",
    "tokenizer = AutoTokenizer.from_pretrained(model_name)\n",
    "ucc_ds = UCC_Dataset(train_path, tokenizer, attributes)\n",
    "ucc_ds_val = UCC_Dataset(val_path, tokenizer, attributes, sample=None)"
   ]
  },
  {
   "cell_type": "code",
   "execution_count": 7,
   "metadata": {},
   "outputs": [
    {
     "name": "stderr",
     "output_type": "stream",
     "text": [
      "C:\\Users\\incognito\\AppData\\Local\\Temp\\ipykernel_6520\\4060326279.py:27: FutureWarning: Series.__getitem__ treating keys as positions is deprecated. In a future version, integer keys will always be treated as labels (consistent with DataFrame behavior). To access a value by position, use `ser.iloc[pos]`\n",
      "  attributes = torch.FloatTensor(item[self.attributes])\n"
     ]
    },
    {
     "data": {
      "text/plain": [
       "{'input_ids': tensor([    0, 19897, 29846,     4,    38,    64,    75,   679, 46301,    74,\n",
       "          9802,   132,     9,    39,   308,    95,     7,  1471,   559,   332,\n",
       "             8,   146,  7064,   356,  1099,     4,   370,   214,   235,     6,\n",
       "         46301,    16,    10, 34759,     4,     2,     1,     1,     1,     1,\n",
       "             1,     1,     1,     1,     1,     1,     1,     1,     1,     1,\n",
       "             1,     1,     1,     1,     1,     1,     1,     1,     1,     1,\n",
       "             1,     1,     1,     1,     1,     1,     1,     1,     1,     1,\n",
       "             1,     1,     1,     1,     1,     1,     1,     1,     1,     1,\n",
       "             1,     1,     1,     1,     1,     1,     1,     1,     1,     1,\n",
       "             1,     1,     1,     1,     1,     1,     1,     1,     1,     1,\n",
       "             1,     1,     1,     1,     1,     1,     1,     1,     1,     1,\n",
       "             1,     1,     1,     1,     1,     1,     1,     1,     1,     1,\n",
       "             1,     1,     1,     1,     1,     1,     1,     1]),\n",
       " 'attention_mask': tensor([1, 1, 1, 1, 1, 1, 1, 1, 1, 1, 1, 1, 1, 1, 1, 1, 1, 1, 1, 1, 1, 1, 1, 1,\n",
       "         1, 1, 1, 1, 1, 1, 1, 1, 1, 1, 1, 1, 0, 0, 0, 0, 0, 0, 0, 0, 0, 0, 0, 0,\n",
       "         0, 0, 0, 0, 0, 0, 0, 0, 0, 0, 0, 0, 0, 0, 0, 0, 0, 0, 0, 0, 0, 0, 0, 0,\n",
       "         0, 0, 0, 0, 0, 0, 0, 0, 0, 0, 0, 0, 0, 0, 0, 0, 0, 0, 0, 0, 0, 0, 0, 0,\n",
       "         0, 0, 0, 0, 0, 0, 0, 0, 0, 0, 0, 0, 0, 0, 0, 0, 0, 0, 0, 0, 0, 0, 0, 0,\n",
       "         0, 0, 0, 0, 0, 0, 0, 0]),\n",
       " 'labels': tensor([0., 0., 0., 0., 0., 0., 0., 1.])}"
      ]
     },
     "execution_count": 7,
     "metadata": {},
     "output_type": "execute_result"
    }
   ],
   "source": [
    "ucc_ds.__getitem__(0)"
   ]
  },
  {
   "cell_type": "code",
   "execution_count": 8,
   "metadata": {},
   "outputs": [
    {
     "data": {
      "text/plain": [
       "9960"
      ]
     },
     "execution_count": 8,
     "metadata": {},
     "output_type": "execute_result"
    }
   ],
   "source": [
    "len(ucc_ds)"
   ]
  },
  {
   "cell_type": "code",
   "execution_count": 9,
   "metadata": {},
   "outputs": [],
   "source": [
    "class UCC_Data_Module(pl.LightningDataModule):\n",
    "    def __init__(self, train_path, val_path, attributes, batch_size: int =16, max_token_len: int = 128,\n",
    "                 model_name= 'roberta-base'):\n",
    "        super().__init__()\n",
    "        self.train_path = train_path\n",
    "        self.val_path = val_path\n",
    "        self.attributes = attributes\n",
    "        self.batch_size = batch_size\n",
    "        self.max_token_len = max_token_len\n",
    "        self.model_name = model_name\n",
    "        self.tokenizer = AutoTokenizer.from_pretrained(model_name)\n",
    "        \n",
    "    def setup(self, stage = None):\n",
    "        if stage in (None, \"fit\"):\n",
    "            self.train_dataset = UCC_Dataset(self.train_path, self.tokenizer, self.attributes)\n",
    "            self.val_dataset = UCC_Dataset(self.val_path, self.tokenizer, self.attributes, sample=None)\n",
    "        if stage == 'predict':\n",
    "            self.val_dataset = UCC_Dataset(self.val_path, self.tokenizer, self.attributes, sample=None)\n",
    "            \n",
    "    def train_dataloader(self):\n",
    "        return DataLoader(self.train_dataset, batch_size=self.batch_size, num_workers=4, shuffle=True)\n",
    "    \n",
    "    def val_dataloader(self):\n",
    "        return DataLoader(self.val_dataset, batch_size=self.batch_size, num_workers=4, shuffle=True)\n",
    "    \n",
    "    def predict_dataloader(self):\n",
    "        return DataLoader(self.val_dataset, batch_size=self.batch_size, num_workers=4)"
   ]
  },
  {
   "cell_type": "code",
   "execution_count": 10,
   "metadata": {},
   "outputs": [
    {
     "name": "stderr",
     "output_type": "stream",
     "text": [
      "c:\\Users\\incognito\\miniconda3\\envs\\llm\\Lib\\site-packages\\transformers\\tokenization_utils_base.py:1601: FutureWarning: `clean_up_tokenization_spaces` was not set. It will be set to `True` by default. This behavior will be depracted in transformers v4.45, and will be then set to `False` by default. For more details check this issue: https://github.com/huggingface/transformers/issues/31884\n",
      "  warnings.warn(\n"
     ]
    }
   ],
   "source": [
    "ucc_data_module = UCC_Data_Module(train_path,val_path, attributes)"
   ]
  },
  {
   "cell_type": "code",
   "execution_count": 11,
   "metadata": {},
   "outputs": [],
   "source": [
    "ucc_data_module.setup()"
   ]
  },
  {
   "cell_type": "code",
   "execution_count": 12,
   "metadata": {},
   "outputs": [
    {
     "data": {
      "text/plain": [
       "623"
      ]
     },
     "execution_count": 12,
     "metadata": {},
     "output_type": "execute_result"
    }
   ],
   "source": [
    "dl = ucc_data_module.train_dataloader()\n",
    "len(dl)"
   ]
  },
  {
   "cell_type": "code",
   "execution_count": 13,
   "metadata": {},
   "outputs": [],
   "source": [
    "from pickletools import optimize\n",
    "\n",
    "\n",
    "class UCC_classifier(pl.LightningModule):\n",
    "    def __init__(self, config: dict):\n",
    "        super().__init__()\n",
    "        self.config = config\n",
    "        self.pretrained_model = AutoModel.from_pretrained(config['model_name'], return_dict = True)\n",
    "        self.hidden = nn.Linear(self.pretrained_model.config.hidden_size, self.pretrained_model.config.hidden_size)\n",
    "        self.classifier = nn.Linear(self.pretrained_model.config.hidden_size, self.config['n_labels'])\n",
    "        torch.nn.init.xavier_uniform_(self.classifier.weight)\n",
    "        torch.nn.init.xavier_uniform_(self.classifier.weight)\n",
    "        self.loss_func = nn.BCEWithLogitsLoss(reduction='mean')\n",
    "        self.dropout = nn.Dropout()\n",
    "        \n",
    "        \n",
    "    def forward(self, input_ids, attention_mask, labels=None):\n",
    "        # roberta model\n",
    "        output = self.pretrained_model(input_ids = input_ids, attention_mask = attention_mask)\n",
    "        pooled_output = torch.mean(output.last_hidden_state, 1)\n",
    "        \n",
    "        # feed forward classification layer\n",
    "        hidden_output = self.hidden(pooled_output)\n",
    "        dropout_ouput = self.dropout(hidden_output)\n",
    "        relu_ouput = F.relu(dropout_ouput)\n",
    "        logits = self.classifier(relu_ouput)\n",
    "        \n",
    "        loss = 0\n",
    "        if labels is not None:\n",
    "            loss = self.loss_func(logits.view(-1, self.config['n_labels']), labels.view(-1, self.config['n_labels']))\n",
    "        return loss, logits\n",
    "    \n",
    "    \n",
    "    def training_step(self, batch, batch_index):\n",
    "        loss, logits = self(**batch)\n",
    "        self.log(\"train loss\", loss, prog_bar = True, logger = True)\n",
    "        return {\"loss\" : loss, \"predictions\" : logits , \"labels\" : batch['labels']}\n",
    "    \n",
    "    def validation_step(self, batch, batch_index):\n",
    "        loss, logits = self(**batch)\n",
    "        self.log(\"validation loss\", loss, prog_bar = True, logger = True)\n",
    "        return {\" val_loss\" : loss, \"predictions\" : logits , \"labels\" : batch['labels']}\n",
    "    \n",
    "    def predict_step(self, batch, batch_index):\n",
    "        _, logits = self(**batch)\n",
    "        return logits\n",
    "    \n",
    "    def configure_optimizers(self):\n",
    "        optimize = AdamW(self.parameters(), lr=self.config['lr'], weight_decay= self.config['w_decay'])\n",
    "        total_steps = self.config['train_size'] / self.config['bs']\n",
    "        warpup_steps = math.floor(total_steps * self.config['warmup'])\n",
    "        schedular = get_cosine_schedule_with_warmup(optimize, warpup_steps, total_steps)\n",
    "        return [optimize], [schedular]"
   ]
  },
  {
   "cell_type": "code",
   "execution_count": 14,
   "metadata": {},
   "outputs": [],
   "source": [
    "config = {\n",
    "    'model_name' : 'distilroberta-base',\n",
    "    \"n_labels\" : len(attributes),\n",
    "    'bs' : 128,\n",
    "    'lr' : 1.5e-6,\n",
    "    'warmup' : 0.2,\n",
    "    'train_size' : len(ucc_data_module.train_dataloader()),\n",
    "    'w_decay': 0.001,\n",
    "    'n_epochs': 5 \n",
    "}\n",
    "\n",
    "model = UCC_classifier(config)"
   ]
  },
  {
   "cell_type": "code",
   "execution_count": 15,
   "metadata": {},
   "outputs": [
    {
     "name": "stderr",
     "output_type": "stream",
     "text": [
      "C:\\Users\\incognito\\AppData\\Local\\Temp\\ipykernel_6520\\4060326279.py:27: FutureWarning: Series.__getitem__ treating keys as positions is deprecated. In a future version, integer keys will always be treated as labels (consistent with DataFrame behavior). To access a value by position, use `ser.iloc[pos]`\n",
      "  attributes = torch.FloatTensor(item[self.attributes])\n",
      "C:\\Users\\incognito\\AppData\\Local\\Temp\\ipykernel_6520\\4060326279.py:27: FutureWarning: Series.__getitem__ treating keys as positions is deprecated. In a future version, integer keys will always be treated as labels (consistent with DataFrame behavior). To access a value by position, use `ser.iloc[pos]`\n",
      "  attributes = torch.FloatTensor(item[self.attributes])\n",
      "C:\\Users\\incognito\\AppData\\Local\\Temp\\ipykernel_6520\\4060326279.py:27: FutureWarning: Series.__getitem__ treating keys as positions is deprecated. In a future version, integer keys will always be treated as labels (consistent with DataFrame behavior). To access a value by position, use `ser.iloc[pos]`\n",
      "  attributes = torch.FloatTensor(item[self.attributes])\n"
     ]
    }
   ],
   "source": [
    "idx = 0 \n",
    "input_ids = ucc_ds.__getitem__(idx)['input_ids']\n",
    "am = ucc_ds.__getitem__(idx)['attention_mask']\n",
    "labels = ucc_ds.__getitem__(idx)['labels']\n",
    "loss , output = model(input_ids.unsqueeze(dim=0), am.unsqueeze(dim=0), labels.unsqueeze(dim=0))"
   ]
  },
  {
   "cell_type": "code",
   "execution_count": 16,
   "metadata": {},
   "outputs": [
    {
     "data": {
      "text/plain": [
       "(tensor(0.7501, grad_fn=<BinaryCrossEntropyWithLogitsBackward0>),\n",
       " tensor([[-0.5448,  0.4326, -0.0885, -0.3607,  0.1285,  0.8442,  0.1414, -0.0219]],\n",
       "        grad_fn=<AddmmBackward0>))"
      ]
     },
     "execution_count": 16,
     "metadata": {},
     "output_type": "execute_result"
    }
   ],
   "source": [
    "loss , output"
   ]
  },
  {
   "cell_type": "code",
   "execution_count": 17,
   "metadata": {},
   "outputs": [
    {
     "name": "stderr",
     "output_type": "stream",
     "text": [
      "c:\\Users\\incognito\\miniconda3\\envs\\llm\\Lib\\site-packages\\transformers\\tokenization_utils_base.py:1601: FutureWarning: `clean_up_tokenization_spaces` was not set. It will be set to `True` by default. This behavior will be depracted in transformers v4.45, and will be then set to `False` by default. For more details check this issue: https://github.com/huggingface/transformers/issues/31884\n",
      "  warnings.warn(\n",
      "GPU available: False, used: False\n",
      "TPU available: False, using: 0 TPU cores\n",
      "HPU available: False, using: 0 HPUs\n",
      "c:\\Users\\incognito\\miniconda3\\envs\\llm\\Lib\\site-packages\\pytorch_lightning\\trainer\\connectors\\logger_connector\\logger_connector.py:75: Starting from v1.9.0, `tensorboardX` has been removed as a dependency of the `pytorch_lightning` package, due to potential conflicts with other packages in the ML ecosystem. For this reason, `logger=True` will use `CSVLogger` as the default logger, unless the `tensorboard` or `tensorboardX` packages are found. Please `pip install lightning[extra]` or one of them to enable TensorBoard support by default\n",
      "c:\\Users\\incognito\\miniconda3\\envs\\llm\\Lib\\site-packages\\transformers\\optimization.py:591: FutureWarning: This implementation of AdamW is deprecated and will be removed in a future version. Use the PyTorch implementation torch.optim.AdamW instead, or set `no_deprecation_warning=True` to disable this warning\n",
      "  warnings.warn(\n",
      "\n",
      "  | Name             | Type              | Params | Mode \n",
      "---------------------------------------------------------------\n",
      "0 | pretrained_model | RobertaModel      | 82.1 M | eval \n",
      "1 | hidden           | Linear            | 590 K  | train\n",
      "2 | classifier       | Linear            | 6.2 K  | train\n",
      "3 | loss_func        | BCEWithLogitsLoss | 0      | train\n",
      "4 | dropout          | Dropout           | 0      | train\n",
      "---------------------------------------------------------------\n",
      "82.7 M    Trainable params\n",
      "0         Non-trainable params\n",
      "82.7 M    Total params\n",
      "330.861   Total estimated model params size (MB)\n",
      "4         Modules in train mode\n",
      "120       Modules in eval mode\n"
     ]
    },
    {
     "name": "stdout",
     "output_type": "stream",
     "text": [
      "Sanity Checking: |          | 0/? [00:00<?, ?it/s]"
     ]
    },
    {
     "name": "stderr",
     "output_type": "stream",
     "text": [
      "c:\\Users\\incognito\\miniconda3\\envs\\llm\\Lib\\site-packages\\pytorch_lightning\\trainer\\connectors\\data_connector.py:475: Your `val_dataloader`'s sampler has shuffling enabled, it is strongly recommended that you turn shuffling off for val/test dataloaders.\n",
      "c:\\Users\\incognito\\miniconda3\\envs\\llm\\Lib\\site-packages\\pytorch_lightning\\trainer\\connectors\\data_connector.py:419: Consider setting `persistent_workers=True` in 'val_dataloader' to speed up the dataloader worker initialization.\n"
     ]
    }
   ],
   "source": [
    "ucc_data_module = UCC_Data_Module(train_path, val_path, attributes, batch_size=config['bs'])\n",
    "ucc_data_module.setup()\n",
    "\n",
    "# model\n",
    "model = UCC_classifier(config)\n",
    "\n",
    "# train\n",
    "trainer= pl.Trainer(max_epochs=config['n_epochs'], num_sanity_val_steps=10)\n",
    "trainer.fit(model, ucc_data_module)"
   ]
  },
  {
   "cell_type": "code",
   "execution_count": null,
   "metadata": {},
   "outputs": [],
   "source": [
    "%load_ext tensorboard\n",
    "%tensorboard --logdir ./lightning_logs/"
   ]
  },
  {
   "cell_type": "code",
   "execution_count": null,
   "metadata": {},
   "outputs": [],
   "source": [
    "def classify_raw_comments(model, dm):\n",
    "    predictions = trainer.predict(model,datamodule=dm)\n",
    "    flattended_predictions = np.stack([torch.sigmoid(torch.Tensor(p)) for batch in predictions for p in batch])\n",
    "    return flattened_predictions\n",
    "\n",
    "predictions = classify_raw_comment(model, ucc_data_module)"
   ]
  },
  {
   "cell_type": "code",
   "execution_count": null,
   "metadata": {},
   "outputs": [],
   "source": [
    "val_data = pd.read_csv(val_path)\n",
    "val_data['unhealthy'] = np.where(val_data['healthy'] == 1, 0, 1)\n",
    "true_labels = np.array(val_data[attributes])"
   ]
  },
  {
   "cell_type": "code",
   "execution_count": null,
   "metadata": {},
   "outputs": [],
   "source": [
    "from sklearn import metrics\n",
    "plt.figure(figsize=(15, 8))\n",
    "for i, attribute in enumerate(attributes):\n",
    "  fpr, tpr, _ = metrics.roc_curve(\n",
    "      true_labels[:,i].astype(int), predictions[:, i])\n",
    "  auc = metrics.roc_auc_score(\n",
    "      true_labels[:,i].astype(int), predictions[:, i])\n",
    "  plt.plot(fpr, tpr, label='%s %g' % (attribute, auc))\n",
    "plt.xlabel('False Positive Rate')\n",
    "plt.ylabel('True Positive Rate')\n",
    "plt.legend(loc='lower right')\n",
    "plt.title('RoBERTa Trained on UCC Datatset - AUC ROC')"
   ]
  },
  {
   "cell_type": "code",
   "execution_count": null,
   "metadata": {},
   "outputs": [],
   "source": []
  }
 ],
 "metadata": {
  "kernelspec": {
   "display_name": "llm",
   "language": "python",
   "name": "python3"
  },
  "language_info": {
   "codemirror_mode": {
    "name": "ipython",
    "version": 3
   },
   "file_extension": ".py",
   "mimetype": "text/x-python",
   "name": "python",
   "nbconvert_exporter": "python",
   "pygments_lexer": "ipython3",
   "version": "3.11.9"
  }
 },
 "nbformat": 4,
 "nbformat_minor": 2
}
