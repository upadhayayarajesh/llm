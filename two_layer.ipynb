{
 "cells": [
  {
   "cell_type": "code",
   "execution_count": 20,
   "id": "initial_id",
   "metadata": {
    "collapsed": true,
    "jupyter": {
     "outputs_hidden": true
    },
    "ExecuteTime": {
     "end_time": "2024-08-17T20:36:31.406213700Z",
     "start_time": "2024-08-17T20:36:31.381126900Z"
    }
   },
   "outputs": [],
   "source": [
    "import torch\n",
    "import torch.nn as nn\n",
    "from torchvision import datasets, transforms\n",
    "from torch.utils.data import DataLoader, random_split\n",
    "import matplotlib.pyplot as plt"
   ]
  },
  {
   "cell_type": "code",
   "outputs": [],
   "source": [
    "# Define transformations\n",
    "transform = transforms.Compose([\n",
    "    transforms.ToTensor()\n",
    "])"
   ],
   "metadata": {
    "collapsed": false,
    "ExecuteTime": {
     "end_time": "2024-08-17T20:36:31.411358400Z",
     "start_time": "2024-08-17T20:36:31.397158700Z"
    }
   },
   "id": "8bf6e3ab466c5952",
   "execution_count": 21
  },
  {
   "cell_type": "code",
   "execution_count": 22,
   "id": "acc00d852ba6bf4d",
   "metadata": {
    "collapsed": false,
    "ExecuteTime": {
     "end_time": "2024-08-17T20:36:31.443388200Z",
     "start_time": "2024-08-17T20:36:31.412358400Z"
    }
   },
   "outputs": [],
   "source": [
    "# Load  the MNIST dataset\n",
    "full_data = datasets.MNIST(root='./data', transform=transform, download=True)\n",
    "train = int(0.8 * len(full_data))\n",
    "test = len(full_data) - train\n",
    "train_data, test_data = random_split(full_data, [train, test])\n",
    "train_loader = DataLoader(dataset=train_data, shuffle=True)\n",
    "test_loader = DataLoader(dataset=test_data, shuffle=True)\n"
   ]
  },
  {
   "cell_type": "code",
   "outputs": [
    {
     "data": {
      "text/plain": "<Figure size 600x600 with 4 Axes>",
      "image/png": "[encoded data removed]"
     },
     "metadata": {},
     "output_type": "display_data"
    }
   ],
   "source": [
    "# Data Visualization\n",
    "figure = plt.figure(figsize=(6, 6))\n",
    "cols, rows = 2, 2\n",
    "for i in range(cols * rows):\n",
    "    sample_idx = torch.randint(len(train_loader.dataset), size=(1,)).item()\n",
    "    img, label = train_loader.dataset[sample_idx]\n",
    "    figure.add_subplot(rows, cols, i + 1)\n",
    "    plt.title(label)\n",
    "    plt.axis(\"off\")\n",
    "    plt.imshow(img.squeeze(), cmap='gray')\n",
    "plt.show()"
   ],
   "metadata": {
    "collapsed": false,
    "ExecuteTime": {
     "end_time": "2024-08-17T20:36:31.552513900Z",
     "start_time": "2024-08-17T20:36:31.445388100Z"
    }
   },
   "id": "5146abef732fc017",
   "execution_count": 23
  },
  {
   "cell_type": "code",
   "outputs": [
    {
     "name": "stdout",
     "output_type": "stream",
     "text": [
      "Epoch: 1, Loss: 0.2541\n",
      "Epoch: 2, Loss: 0.2259\n",
      "Epoch: 3, Loss: 0.1923\n",
      "Epoch: 4, Loss: 0.0717\n",
      "Epoch: 5, Loss: 0.0537\n",
      "Finished Training!\n"
     ]
    }
   ],
   "source": [
    "\n",
    "class FeedForwardNetwork(torch.nn.Module):\n",
    "    def __init__(self, in_dim, embedding_dim=128, out_dim=10):\n",
    "        super().__init__()\n",
    "        self.linear = nn.Sequential(\n",
    "            nn.Linear(in_dim, embedding_dim),\n",
    "            nn.ReLU(),\n",
    "            nn.Linear(embedding_dim, out_dim),\n",
    "        )\n",
    "\n",
    "    def forward(self, x):\n",
    "        x = torch.flatten(x)\n",
    "        return self.linear(x)\n",
    "\n",
    "\n",
    "# Model creation\n",
    "in_dim = (train_loader.dataset[0][0].size()[1]) ** 2\n",
    "model = FeedForwardNetwork(in_dim=in_dim, out_dim=10, embedding_dim=128)\n",
    "optimizer = torch.optim.SGD(model.parameters(), lr=0.01)\n",
    "criterion = nn.CrossEntropyLoss()\n",
    "\n",
    "# Training\n",
    "for epoch in range(5):\n",
    "    loss = 0\n",
    "    for images, labels in train_loader.dataset:\n",
    "        optimizer.zero_grad()\n",
    "        output = model.forward(images)\n",
    "        loss = criterion(output, torch.tensor(labels))\n",
    "        loss.backward()\n",
    "        optimizer.step()\n",
    "    print(f'Epoch: {epoch + 1}, Loss: {loss.item():.4f}')\n",
    "print(\"Finished Training!\")"
   ],
   "metadata": {
    "collapsed": false,
    "ExecuteTime": {
     "end_time": "2024-08-17T20:37:43.900455900Z",
     "start_time": "2024-08-17T20:36:31.556531500Z"
    }
   },
   "id": "7d4847eb08000388",
   "execution_count": 24
  },
  {
   "cell_type": "code",
   "outputs": [
    {
     "name": "stdout",
     "output_type": "stream",
     "text": [
      "Accuracy: 97.15%\n"
     ]
    }
   ],
   "source": [
    "# Prediction using created model.\n",
    "model.eval()\n",
    "with torch.no_grad():\n",
    "    correct = 0\n",
    "    total = 0\n",
    "    for images, labels in test_loader.dataset:\n",
    "        outputs = model.forward(images)\n",
    "        predicted = torch.argmax(outputs)\n",
    "        total += 1\n",
    "        if predicted == labels:\n",
    "            correct += 1\n",
    "    print(f'Accuracy: {(correct / total) * 100}%')"
   ],
   "metadata": {
    "collapsed": false,
    "ExecuteTime": {
     "end_time": "2024-08-17T20:37:44.769299100Z",
     "start_time": "2024-08-17T20:37:43.902765100Z"
    }
   },
   "id": "f9de8251268e5d18",
   "execution_count": 25
  },
  {
   "cell_type": "code",
   "outputs": [],
   "source": [
    "# Saving the model\n",
    "path = \"./model/two_layer_linear_model.pth\"\n",
    "torch.save(model.state_dict(), path )"
   ],
   "metadata": {
    "collapsed": false,
    "ExecuteTime": {
     "end_time": "2024-08-17T20:37:44.790596900Z",
     "start_time": "2024-08-17T20:37:44.770344400Z"
    }
   },
   "id": "b35ece0833e9faab",
   "execution_count": 26
  },
  {
   "cell_type": "code",
   "outputs": [],
   "source": [],
   "metadata": {
    "collapsed": false,
    "ExecuteTime": {
     "end_time": "2024-08-17T20:37:44.800103100Z",
     "start_time": "2024-08-17T20:37:44.785437500Z"
    }
   },
   "id": "df22628b96d9dc66",
   "execution_count": 26
  }
 ],
 "metadata": {
  "kernelspec": {
   "display_name": "Python 3 (ipykernel)",
   "language": "python",
   "name": "python3"
  },
  "language_info": {
   "codemirror_mode": {
    "name": "ipython",
    "version": 3
   },
   "file_extension": ".py",
   "mimetype": "text/x-python",
   "name": "python",
   "nbconvert_exporter": "python",
   "pygments_lexer": "ipython3",
   "version": "3.8.19"
  }
 },
 "nbformat": 4,
 "nbformat_minor": 5
}
